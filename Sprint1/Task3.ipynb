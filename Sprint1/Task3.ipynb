{
 "cells": [
  {
   "cell_type": "markdown",
   "metadata": {},
   "source": [
    "<h1 style=\"color:DodgerBlue\">Индивидальный проект</h1>"
   ]
  },
  {
   "cell_type": "markdown",
   "metadata": {},
   "source": [
    "<h2 style=\"color:DodgerBlue\">Название проекта:</h2>\n",
    "\n",
    "----\n",
    "\n",
    "### Вариант задания \n"
   ]
  },
  {
   "cell_type": "markdown",
   "metadata": {},
   "source": [
    "<h2 style=\"color:DodgerBlue\">Описание проекта:</h2>\n",
    "\n",
    "----\n",
    "\n",
    "[ваш текст]\n",
    "\n",
    "#### Дополнительное задание\n",
    "Добавьте к сущестующим классам конструктора классов с использованием гетторов и сетторов и реализуйте взаимодействие объектов между собой"
   ]
  },
  {
   "cell_type": "markdown",
   "metadata": {},
   "source": [
    "<h2 style=\"color:DodgerBlue\">Реализация:</h2>\n",
    "\n",
    "----"
   ]
  },
  {
   "cell_type": "code",
   "execution_count": 1,
   "metadata": {
    "dotnet_interactive": {
     "language": "csharp"
    },
    "polyglot_notebook": {
     "kernelName": "csharp"
    }
   },
   "outputs": [
    {
     "name": "stdout",
     "output_type": "stream",
     "text": [
      "Привет, меня зовут Алексей.\n",
      "Привет, я Таня, студент университета ТИУ, учусь на 2 курсе.\n",
      "Привет, меня зовут Иван.\n",
      "Здравствуйте, меня зовут Аня, я преподаю Математика. У меня 10 лет опыта.\n",
      "\n",
      "Имя: Алексей, Возраст: 30, Пол: Мужской\n",
      "Имя: Таня, Возраст: 20, Пол: Женский\n",
      "Имя: Иван, Возраст: 40, Пол: Мужской, Компания: ПохЧамп, Зарплата: 50000\n",
      "Имя: Аня, Возраст: 35, Пол: Женский\n",
      "\n",
      "Таня задает вопрос преподавателю Аня по предмету Математика.\n",
      "Аня отвечает на вопрос студента Таня по предмету Математика.\n",
      "Иван из компании ПохЧамп общается с Алексей.\n",
      "Алексей общается с Иван.\n"
     ]
    }
   ],
   "source": [
    "using System;\n",
    "\n",
    "class Person\n",
    "{\n",
    "    // Атрибуты\n",
    "    public string Name { get; set; }\n",
    "    public int Age { get; set; }\n",
    "    public string Gender { get; set; }\n",
    "\n",
    "    // Конструктор\n",
    "    public Person(string name, int age, string gender)\n",
    "    {\n",
    "        Name = name;\n",
    "        Age = age;\n",
    "        Gender = gender;\n",
    "    }\n",
    "\n",
    "    // Метод для получения информации\n",
    "    public virtual string GetInfo()\n",
    "    {\n",
    "        return $\"Имя: {Name}, Возраст: {Age}, Пол: {Gender}\";\n",
    "    }\n",
    "\n",
    "    // Метод приветствия\n",
    "    public virtual void SayHello()\n",
    "    {\n",
    "        Console.WriteLine($\"Привет, меня зовут {Name}.\");\n",
    "    }\n",
    "\n",
    "    // Метод взаимодействия между объектами\n",
    "    public virtual void Interact(Person person)\n",
    "    {\n",
    "        Console.WriteLine($\"{Name} общается с {person.Name}.\");\n",
    "    }\n",
    "}\n",
    "\n",
    "class Student : Person\n",
    "{\n",
    "    // Дополнительные атрибуты\n",
    "    public string University { get; set; }\n",
    "    public int Course { get; set; }\n",
    "\n",
    "    // Конструктор\n",
    "    public Student(string name, int age, string gender, string university, int course) \n",
    "        : base(name, age, gender)\n",
    "    {\n",
    "        University = university;\n",
    "        Course = course;\n",
    "    }\n",
    "\n",
    "    // Переопределение метода приветствия\n",
    "    public override void SayHello()\n",
    "    {\n",
    "        Console.WriteLine($\"Привет, я {Name}, студент университета {University}, учусь на {Course} курсе.\");\n",
    "    }\n",
    "\n",
    "    // Взаимодействие студента с преподавателем\n",
    "    public void AskQuestion(Teacher teacher)\n",
    "    {\n",
    "        Console.WriteLine($\"{Name} задает вопрос преподавателю {teacher.Name} по предмету {teacher.Subject}.\");\n",
    "    }\n",
    "}\n",
    "\n",
    "class Employee : Person\n",
    "{\n",
    "    // Дополнительные атрибуты\n",
    "    public string Company { get; set; }\n",
    "    public decimal Salary { get; set; }\n",
    "\n",
    "    // Конструктор\n",
    "    public Employee(string name, int age, string gender, string company, decimal salary)\n",
    "        : base(name, age, gender)\n",
    "    {\n",
    "        Company = company;\n",
    "        Salary = salary;\n",
    "    }\n",
    "\n",
    "    // Переопределение метода для получения информации\n",
    "    public override string GetInfo()\n",
    "    {\n",
    "        return base.GetInfo() + $\", Компания: {Company}, Зарплата: {Salary}\";\n",
    "    }\n",
    "\n",
    "    // Взаимодействие работника с другим объектом\n",
    "    public override void Interact(Person person)\n",
    "    {\n",
    "        Console.WriteLine($\"{Name} из компании {Company} общается с {person.Name}.\");\n",
    "    }\n",
    "}\n",
    "\n",
    "class Teacher : Person\n",
    "{\n",
    "    // Дополнительные атрибуты\n",
    "    public string Subject { get; set; }\n",
    "    public int Experience { get; set; }\n",
    "\n",
    "    // Конструктор\n",
    "    public Teacher(string name, int age, string gender, string subject, int experience)\n",
    "        : base(name, age, gender)\n",
    "    {\n",
    "        Subject = subject;\n",
    "        Experience = experience;\n",
    "    }\n",
    "\n",
    "    // Переопределение метода приветствия\n",
    "    public override void SayHello()\n",
    "    {\n",
    "        Console.WriteLine($\"Здравствуйте, меня зовут {Name}, я преподаю {Subject}. У меня {Experience} лет опыта.\");\n",
    "    }\n",
    "\n",
    "    // Взаимодействие преподавателя со студентом\n",
    "    public void AnswerQuestion(Student student)\n",
    "    {\n",
    "        Console.WriteLine($\"{Name} отвечает на вопрос студента {student.Name} по предмету {Subject}.\");\n",
    "    }\n",
    "}\n",
    "\n",
    "\n",
    "Person person = new Person(\"Алексей\", 30, \"Мужской\");\n",
    "Student student = new Student(\"Таня\", 20, \"Женский\", \"ТИУ\", 2);\n",
    "Employee employee = new Employee(\"Иван\", 40, \"Мужской\", \"ПохЧамп\", 50000);\n",
    "Teacher teacher = new Teacher(\"Аня\", 35, \"Женский\", \"Математика\", 10);\n",
    "\n",
    "// Демонстрация полиморфизма\n",
    "person.SayHello();\n",
    "student.SayHello();\n",
    "employee.SayHello();\n",
    "teacher.SayHello();\n",
    "\n",
    "Console.WriteLine();\n",
    "\n",
    "// Получение информации\n",
    "Console.WriteLine(person.GetInfo());\n",
    "Console.WriteLine(student.GetInfo());\n",
    "Console.WriteLine(employee.GetInfo());\n",
    "Console.WriteLine(teacher.GetInfo());\n",
    "\n",
    "Console.WriteLine();\n",
    "\n",
    "// Взаимодействие объектов между собой\n",
    "student.AskQuestion(teacher); // Студент задает вопрос преподавателю\n",
    "teacher.AnswerQuestion(student); // Преподаватель отвечает на вопрос студента\n",
    "employee.Interact(person); // Работник взаимодействует с человеком\n",
    "person.Interact(employee); // Человек взаимодействует с работником\n"
   ]
  }
 ],
 "metadata": {
  "kernelspec": {
   "display_name": ".NET (C#)",
   "language": "C#",
   "name": ".net-csharp"
  },
  "polyglot_notebook": {
   "kernelInfo": {
    "defaultKernelName": "csharp",
    "items": [
     {
      "aliases": [],
      "languageName": "csharp",
      "name": "csharp"
     }
    ]
   }
  }
 },
 "nbformat": 4,
 "nbformat_minor": 2
}
